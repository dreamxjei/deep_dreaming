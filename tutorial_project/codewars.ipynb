{
 "cells": [
  {
   "cell_type": "code",
   "execution_count": 1,
   "metadata": {},
   "outputs": [
    {
     "data": {
      "text/html": [
       "<style> body {--vscode-font-family: 'afterglow extralight'} </style>\n"
      ],
      "text/plain": [
       "<IPython.core.display.HTML object>"
      ]
     },
     "metadata": {},
     "output_type": "display_data"
    }
   ],
   "source": [
    "%%HTML\n",
    "<style> body {--vscode-font-family: 'afterglow extralight'} </style>"
   ]
  },
  {
   "cell_type": "markdown",
   "metadata": {},
   "source": [
    "### codewars solutions"
   ]
  },
  {
   "cell_type": "code",
   "execution_count": 1,
   "metadata": {},
   "outputs": [],
   "source": [
    "import os, sys\n",
    "import logging\n",
    "import pathlib\n",
    "import platform\n",
    "import time\n",
    "\n",
    "import matplotlib.pyplot as plt\n",
    "import numpy as np\n",
    "from PIL import Image\n",
    "\n",
    "\n",
    "logging.basicConfig(\n",
    "    format='%(asctime)s [%(levelname)s] %(message)s',\n",
    "    datefmt='%Y-%m-%d %H:%M:%S',\n",
    "    level=getattr(logging, 'INFO'))\n",
    "\n",
    "np.set_printoptions(precision=4, suppress=True)"
   ]
  },
  {
   "cell_type": "code",
   "execution_count": null,
   "metadata": {},
   "outputs": [],
   "source": [
    "# Descending Order\n",
    "# TastyOs\n",
    "\n",
    "def descending_order(num):\n",
    "    ans = []\n",
    "    rawstr = str(num)\n",
    "    for i in range(len(rawstr)):\n",
    "        if i == 0:\n",
    "            ans.insert(0, rawstr[i])\n",
    "            continue\n",
    "        for j in range(len(ans)):\n",
    "            if rawstr[i] >= ans[j]:\n",
    "                ans.insert(j, rawstr[i])\n",
    "                break\n",
    "            elif j == len(ans)-1:\n",
    "                ans.append(rawstr[i])\n",
    "    return int(''.join(map(str, ans)))\n"
   ]
  },
  {
   "cell_type": "code",
   "execution_count": 14,
   "metadata": {},
   "outputs": [],
   "source": [
    "# You're a square!\n",
    "# bkaes\n",
    "\n",
    "def is_square(n):\n",
    "    if n < 0:\n",
    "        return False\n",
    "    if int(n ** 0.5) != n ** 0.5:\n",
    "        return False\n",
    "    return True\n"
   ]
  },
  {
   "cell_type": "code",
   "execution_count": 19,
   "metadata": {},
   "outputs": [],
   "source": [
    "# Array.diff\n",
    "# marcinbunsch\n",
    "\n",
    "def array_diff(a, b):\n",
    "    ans = [i for i in a if i not in b]\n",
    "    return ans\n"
   ]
  },
  {
   "cell_type": "code",
   "execution_count": 20,
   "metadata": {},
   "outputs": [
    {
     "data": {
      "text/plain": [
       "[3]"
      ]
     },
     "execution_count": 20,
     "metadata": {},
     "output_type": "execute_result"
    }
   ],
   "source": [
    "a = [1, 2, 2, 3]\n",
    "b = [1, 2]\n",
    "array_diff(a, b)"
   ]
  }
 ],
 "metadata": {
  "kernelspec": {
   "display_name": "regis",
   "language": "python",
   "name": "python3"
  },
  "language_info": {
   "codemirror_mode": {
    "name": "ipython",
    "version": 3
   },
   "file_extension": ".py",
   "mimetype": "text/x-python",
   "name": "python",
   "nbconvert_exporter": "python",
   "pygments_lexer": "ipython3",
   "version": "3.12.2"
  },
  "orig_nbformat": 4,
  "vscode": {
   "interpreter": {
    "hash": "29271ebd91dd55baa2c6839857db954449de5cc07e56f30c46ac731822af9f68"
   }
  }
 },
 "nbformat": 4,
 "nbformat_minor": 2
}
