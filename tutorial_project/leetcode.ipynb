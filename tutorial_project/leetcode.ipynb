{
 "cells": [
  {
   "cell_type": "code",
   "execution_count": 1,
   "metadata": {},
   "outputs": [
    {
     "data": {
      "text/html": [
       "<style> body {--vscode-font-family: \"afterglow extralight\"} </style>\n"
      ],
      "text/plain": [
       "<IPython.core.display.HTML object>"
      ]
     },
     "metadata": {},
     "output_type": "display_data"
    }
   ],
   "source": [
    "%%HTML\n",
    "<style> body {--vscode-font-family: 'afterglow extralight'} </style>"
   ]
  },
  {
   "cell_type": "markdown",
   "metadata": {},
   "source": [
    "### leetcode solutions"
   ]
  },
  {
   "cell_type": "code",
   "execution_count": 1,
   "metadata": {},
   "outputs": [],
   "source": [
    "import os, sys\n",
    "import logging\n",
    "import pathlib\n",
    "import platform\n",
    "import time\n",
    "\n",
    "import matplotlib.pyplot as plt\n",
    "import numpy as np\n",
    "from PIL import Image\n",
    "\n",
    "\n",
    "logging.basicConfig(\n",
    "    format='%(asctime)s [%(levelname)s] %(message)s',\n",
    "    datefmt='%Y-%m-%d %H:%M:%S',\n",
    "    level=getattr(logging, 'INFO'))\n",
    "\n",
    "np.set_printoptions(precision=4, suppress=True)"
   ]
  },
  {
   "cell_type": "markdown",
   "metadata": {},
   "source": [
    "1. Two Sum"
   ]
  },
  {
   "cell_type": "code",
   "execution_count": 32,
   "metadata": {},
   "outputs": [
    {
     "name": "stdout",
     "output_type": "stream",
     "text": [
      "nums: [2, 7, 11, 15] | target: 9\n",
      "result: [1, 0]\n",
      "\n",
      "nums: [3, 2, 4] | target: 6\n",
      "result: [2, 1]\n",
      "\n",
      "nums: [3, 3] | target: 6\n",
      "result: [1, 0]\n",
      "\n"
     ]
    }
   ],
   "source": [
    "class Solution:\n",
    "    def twoSum(self, nums: list[int], target: int) -> list[int]:\n",
    "        num_to_idx = {}\n",
    "        for idx in range(len(nums)):\n",
    "            num2 = target - nums[idx]\n",
    "            if num2 in num_to_idx:\n",
    "                return([idx, num_to_idx[num2]])\n",
    "            num_to_idx[nums[idx]] = idx\n",
    "\n",
    "\n",
    "cases = [[[2,7,11,15], 9], [[3,2,4], 6], [[3,3], 6]]\n",
    "solution = Solution()\n",
    "for case in cases:\n",
    "    print(f'nums: {case[0]} | target: {case[1]}\\nresult: {solution.twoSum(case[0], case[1])}\\n')"
   ]
  },
  {
   "cell_type": "markdown",
   "metadata": {},
   "source": [
    "4. Median of Two Sorted Arrays"
   ]
  },
  {
   "cell_type": "code",
   "execution_count": 31,
   "metadata": {},
   "outputs": [
    {
     "name": "stdout",
     "output_type": "stream",
     "text": [
      "nums1: [1, 3] | nums2: [2]\n",
      "result: 2\n",
      "\n",
      "nums1: [1, 2] | nums2: [3, 4]\n",
      "result: 2.5\n",
      "\n"
     ]
    }
   ],
   "source": [
    "class Solution():\n",
    "    def findMedianSortedArrays(self, nums1: list[int], nums2: list[int]) -> float:\n",
    "        nums_all = nums1 + nums2\n",
    "        nums_all.sort()\n",
    "        length = len(nums_all)\n",
    "        midpoint = length // 2\n",
    "        \n",
    "        if length % 2 == 0:\n",
    "            median = (nums_all[midpoint - 1] + nums_all[midpoint]) / 2\n",
    "        else:\n",
    "            median = nums_all[midpoint]\n",
    "            \n",
    "        return median\n",
    "\n",
    "\n",
    "cases = [[[1,3], [2]], [[1,2], [3,4]]]\n",
    "solution = Solution()\n",
    "for case in cases:\n",
    "    print(f'nums1: {case[0]} | nums2: {case[1]}\\nresult: {solution.findMedianSortedArrays(case[0], case[1])}\\n')"
   ]
  },
  {
   "cell_type": "markdown",
   "metadata": {},
   "source": [
    "6. Zigzag Conversion"
   ]
  },
  {
   "cell_type": "code",
   "execution_count": 30,
   "metadata": {},
   "outputs": [
    {
     "name": "stdout",
     "output_type": "stream",
     "text": [
      "s: PAYPALISHIRING | numRows: 3\n",
      "result: PAHNAPLSIIGYIR\n",
      "\n",
      "s: PAYPALISHIRING | numRows: 4\n",
      "result: PINALSIGYAHRPI\n",
      "\n",
      "s: A | numRows: 1\n",
      "result: A\n",
      "\n"
     ]
    }
   ],
   "source": [
    "# 6_zigzag_conversion\n",
    "\n",
    "'''\n",
    "PAYPALISHIRING\n",
    "numrows = 1\n",
    "interval = 1\n",
    "\n",
    "P Y A I H R N\n",
    "A P L S I I G\n",
    "numrows = 2\n",
    "interval = 2\n",
    "\n",
    "P   A   H   N\n",
    "A P L S I I G  extra: 2\n",
    "Y   I   R\n",
    "numrows = 3\n",
    "interval = 4\n",
    "\n",
    "P     I     N\n",
    "A   L S   I G  extra: 4\n",
    "Y A   H R      extra: 2\n",
    "P     I\n",
    "numrows = 4\n",
    "interval = 6\n",
    "\n",
    "P       H\n",
    "A     S I      extra: 6\n",
    "Y   I   R      extra: 4\n",
    "P L     I G    extra: 2\n",
    "A       N\n",
    "numrows = 5\n",
    "interval = 8\n",
    "\n",
    "P         R\n",
    "A       I I    extra: 8\n",
    "Y     H   N    extra: 6\n",
    "P   S     G    extra: 4\n",
    "A I            extra: 2\n",
    "L\n",
    "numrows = 6\n",
    "interval = 10\n",
    "\n",
    "1:1, 2:2, 3:4, 4:6, 5:8, 6:10, 7:12 ...\n",
    "'''\n",
    "\n",
    "\n",
    "class Solution:\n",
    "    def convert(self, s: str, numRows: int) -> str:\n",
    "        if len(s) == 1:\n",
    "            return s\n",
    "\n",
    "        rows = {}\n",
    "        for i in range(numRows):\n",
    "            rows[i] = ''\n",
    "\n",
    "        # set interval: repetition spacing\n",
    "        if numRows == 1 or numRows == 2:\n",
    "            interval = numRows\n",
    "        else:\n",
    "            interval = numRows + (numRows - 2)\n",
    "\n",
    "        for i in range(numRows):\n",
    "            # are there multiple characters per row in each interval?\n",
    "            if i == 0:\n",
    "                extra = 0\n",
    "            else:\n",
    "                extra = interval - i*2\n",
    "\n",
    "            for j in range(i, len(s), interval):\n",
    "                rows[i] += s[j]\n",
    "                if extra != 0:\n",
    "                    if (j + extra) < len(s):\n",
    "                        rows[i] += s[j + extra]\n",
    "        \n",
    "        ans = ''\n",
    "\n",
    "        for i in range(numRows):\n",
    "            ans += rows[i]\n",
    "\n",
    "        return ans\n",
    "\n",
    "\n",
    "cases = [['PAYPALISHIRING', 3], ['PAYPALISHIRING', 4], ['A',1]]\n",
    "solution = Solution()\n",
    "for case in cases:\n",
    "    print(f's: {case[0]} | numRows: {case[1]}\\nresult: {solution.convert(case[0], case[1])}\\n')"
   ]
  },
  {
   "cell_type": "markdown",
   "metadata": {},
   "source": [
    "8. String to Integer (atoi)"
   ]
  },
  {
   "cell_type": "code",
   "execution_count": 37,
   "metadata": {},
   "outputs": [
    {
     "name": "stdout",
     "output_type": "stream",
     "text": [
      "s: 42\n",
      "result: 42\n",
      "\n",
      "s:    -042\n",
      "result: -42\n",
      "\n",
      "s: 1337c0d3\n",
      "result: 1337\n",
      "\n",
      "s: 0-1\n",
      "result: 0\n",
      "\n",
      "s: words and 987\n",
      "result: 0\n",
      "\n"
     ]
    }
   ],
   "source": [
    "class Solution:\n",
    "    def myAtoi(self, s: str) -> int:\n",
    "        ans = ''\n",
    "\n",
    "        # 1. remove whitespace\n",
    "        s = s.strip()\n",
    "\n",
    "        if s == '':\n",
    "            return 0\n",
    "\n",
    "        # 2. check - or +\n",
    "        if s[0] == '-':\n",
    "            sign = -1\n",
    "            s = s[1:]\n",
    "        elif s[0] == '+':\n",
    "            sign = 1\n",
    "            s = s[1:]\n",
    "        elif s[0] not in ['-', '+'] and not s[0].isdigit():\n",
    "            return 0\n",
    "        else:\n",
    "            sign = 1\n",
    "\n",
    "        # 3. read str until first nondigit\n",
    "        for i in s:\n",
    "            if i.isdigit():\n",
    "                ans += i\n",
    "            else:\n",
    "                break\n",
    "\n",
    "        if not ans:\n",
    "            return 0\n",
    "\n",
    "        # 4. convert to int\n",
    "        ans = sign*int(ans)\n",
    "\n",
    "        #5. clamp to [-2^31, 2^31 - 1]\n",
    "        if ans < -2**31:\n",
    "            ans = -2**31\n",
    "        elif ans > 2**31 - 1:\n",
    "            ans = 2**31 - 1\n",
    "\n",
    "        return ans\n",
    "\n",
    "\n",
    "cases = ['42', '   -042', '1337c0d3', '0-1', 'words and 987']\n",
    "solution = Solution()\n",
    "for case in cases:\n",
    "    print(f's: {case}\\nresult: {solution.myAtoi(case)}\\n')"
   ]
  },
  {
   "cell_type": "markdown",
   "metadata": {},
   "source": [
    "1048. Longest String Chain"
   ]
  },
  {
   "cell_type": "code",
   "execution_count": 34,
   "metadata": {},
   "outputs": [
    {
     "name": "stdout",
     "output_type": "stream",
     "text": [
      "words: ['a', 'b', 'ba', 'bca', 'bda', 'bdca']\n",
      "result: 4\n",
      "\n",
      "words: ['xbc', 'pcxbcf', 'xb', 'cxbc', 'pcxbc']\n",
      "result: 5\n",
      "\n",
      "words: ['abcd', 'dbqca']\n",
      "result: 1\n",
      "\n"
     ]
    }
   ],
   "source": [
    "# 1048_longest_string_on_a_chain\n",
    "\n",
    "class Solution:\n",
    "    def longestStrChain(self, words: list[str]) -> int:\n",
    "        # first sort by length\n",
    "        words.sort(key=lambda word: len(word))\n",
    "        \n",
    "        # create dic for longest chain length of each word\n",
    "        word_chain_len = {}\n",
    "        for word in words:\n",
    "            word_chain_len[word] = 1\n",
    "\n",
    "        # update lengths iterating through increasing chain length\n",
    "        for word in words:\n",
    "            for i in range(len(word)):\n",
    "                predecessor = word[:i] + word[i+1:]\n",
    "                if predecessor in word_chain_len:\n",
    "                    word_chain_len[word] = max(word_chain_len[word], word_chain_len[predecessor] + 1)\n",
    "\n",
    "        return max(word_chain_len.values())\n",
    "\n",
    "\n",
    "cases = [['a','b','ba','bca','bda','bdca'], ['xbc','pcxbcf','xb','cxbc','pcxbc'], ['abcd','dbqca']]\n",
    "solution = Solution()\n",
    "for case in cases:\n",
    "    print(f'words: {case}\\nresult: {solution.longestStrChain(case)}\\n')"
   ]
  }
 ],
 "metadata": {
  "kernelspec": {
   "display_name": "regis",
   "language": "python",
   "name": "python3"
  },
  "language_info": {
   "codemirror_mode": {
    "name": "ipython",
    "version": 3
   },
   "file_extension": ".py",
   "mimetype": "text/x-python",
   "name": "python",
   "nbconvert_exporter": "python",
   "pygments_lexer": "ipython3",
   "version": "3.12.2"
  },
  "orig_nbformat": 4,
  "vscode": {
   "interpreter": {
    "hash": "29271ebd91dd55baa2c6839857db954449de5cc07e56f30c46ac731822af9f68"
   }
  }
 },
 "nbformat": 4,
 "nbformat_minor": 2
}
