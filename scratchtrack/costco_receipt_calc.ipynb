{
 "cells": [
  {
   "cell_type": "code",
   "execution_count": 1,
   "metadata": {},
   "outputs": [
    {
     "data": {
      "text/html": [
       "<style> body {--vscode-font-family: \"SF Pro Display\"} </style>\n"
      ],
      "text/plain": [
       "<IPython.core.display.HTML object>"
      ]
     },
     "metadata": {},
     "output_type": "display_data"
    }
   ],
   "source": [
    "%%HTML\n",
    "<style> body {--vscode-font-family: \"SF Pro Display\"} </style>"
   ]
  },
  {
   "cell_type": "code",
   "execution_count": 2,
   "metadata": {},
   "outputs": [],
   "source": [
    "import numpy as np\n",
    "import matplotlib.pyplot as plt"
   ]
  },
  {
   "cell_type": "code",
   "execution_count": 28,
   "metadata": {},
   "outputs": [],
   "source": [
    "prices = {\n",
    "    'spaghetti': 11.49/2, 'ks_chewy': 14.79, 'ks_milk': 13.69,\n",
    "    'colgate': (17.99-4.5)/2, 'ziplock': 14.99/2, 'ks_wasteliners': 11.99/2,\n",
    "    'onions': 4.99/2, 'rao_sauce': 11.99/2, 'avocado': 13.99-3.5,\n",
    "    'pickle': 6.99, 'eggs': 11.99/2, 'salmon': 22.42,\n",
    "    'tilapia': 20.07, 'hydro_boost': 29.99, 'peanut_butter': 15.69,\n",
    "    'salt': 6.39/2, 'bananas': 2.49, 'hbo_almonds': 7.99,\n",
    "    'ks_almonds': 10.99, 'ks_walnuts': 26.97/2, 'ks_chicken_stock': 8.99,\n",
    "    'unstoppable_fresh': 19.99-4  # , 'paper_towels': 24.99/2\n",
    "}\n",
    "\n",
    "tax_stat = {\n",
    "    'spaghetti': 'e', 'ks_chewy': 'e', 'ks_milk': 'e',\n",
    "    'colgate': 'a', 'ziplock': 'a', 'ks_wasteliners': 'a',\n",
    "    'onions': 'e', 'rao_sauce': 'e', 'avocado': 'e',\n",
    "    'pickle': 'e', 'eggs': 'e', 'salmon': 'e',\n",
    "    'tilapia': 'e', 'hydro_boost': 'a', 'peanut_butter': 'e',\n",
    "    'salt': 'e', 'bananas': 'e', 'hbo_almonds': 'e',\n",
    "    'ks_almonds': 'e', 'ks_walnuts': 'e', 'ks_chicken_stock': 'e',\n",
    "    'unstoppable_fresh': 'a'  # , 'paper_towels': 'e'\n",
    "}"
   ]
  },
  {
   "cell_type": "code",
   "execution_count": 29,
   "metadata": {},
   "outputs": [],
   "source": [
    "def scan_item(sum, price, tax_code, quantity):\n",
    "    if tax_code == 'e':\n",
    "        rate = 1.0\n",
    "    elif tax_code == 'a':\n",
    "        rate = 1.0863\n",
    "    elif tax_code == 'f':\n",
    "        rate = 1.0863\n",
    "    else:\n",
    "        print('tax code not recognized, defaulting to 1.0')\n",
    "        rate = 1.0\n",
    "\n",
    "    sum += price*quantity*rate\n",
    "    return sum"
   ]
  },
  {
   "cell_type": "code",
   "execution_count": 38,
   "metadata": {},
   "outputs": [
    {
     "name": "stdout",
     "output_type": "stream",
     "text": [
      "item: spaghetti price: 5.745 tax code: e quantity: 2\n",
      "item: ks_chewy price: 14.79 tax code: e quantity: 2\n",
      "item: ks_milk price: 13.69 tax code: e quantity: 1\n",
      "item: colgate price: 6.744999999999999 tax code: a quantity: 2\n",
      "item: ziplock price: 7.495 tax code: a quantity: 2\n",
      "item: ks_wasteliners price: 5.995 tax code: a quantity: 2\n",
      "item: onions price: 2.495 tax code: e quantity: 2\n",
      "item: rao_sauce price: 5.995 tax code: e quantity: 2\n",
      "item: avocado price: 10.49 tax code: e quantity: 1\n",
      "item: pickle price: 6.99 tax code: e quantity: 1\n",
      "item: eggs price: 5.995 tax code: e quantity: 2\n",
      "item: salmon price: 22.42 tax code: e quantity: 1\n",
      "item: tilapia price: 20.07 tax code: e quantity: 1\n",
      "item: hydro_boost price: 29.99 tax code: a quantity: 1\n",
      "item: peanut_butter price: 15.69 tax code: e quantity: 1\n",
      "item: salt price: 3.195 tax code: e quantity: 2\n",
      "item: bananas price: 2.49 tax code: e quantity: 1\n",
      "item: hbo_almonds price: 7.99 tax code: e quantity: 1\n",
      "item: ks_almonds price: 10.99 tax code: e quantity: 2\n",
      "item: ks_walnuts price: 13.485 tax code: e quantity: 2\n",
      "item: ks_chicken_stock price: 8.99 tax code: e quantity: 1\n",
      "item: unstoppable_fresh price: 15.989999999999998 tax code: a quantity: 1\n",
      "total cost is: 328.11063499999995 \n",
      "\n",
      "item: spaghetti price: 5.745 tax code: e quantity: 1\n",
      "item: ks_chewy price: 14.79 tax code: e quantity: 1\n",
      "item: colgate price: 6.744999999999999 tax code: a quantity: 1\n",
      "item: ziplock price: 7.495 tax code: a quantity: 1\n",
      "item: ks_wasteliners price: 5.995 tax code: a quantity: 1\n",
      "item: onions price: 2.495 tax code: e quantity: 1\n",
      "item: rao_sauce price: 5.995 tax code: e quantity: 1\n",
      "item: avocado price: 10.49 tax code: e quantity: 1\n",
      "item: eggs price: 5.995 tax code: e quantity: 1\n",
      "item: tilapia price: 20.07 tax code: e quantity: 1\n",
      "item: peanut_butter price: 15.69 tax code: e quantity: 1\n",
      "item: salt price: 3.195 tax code: e quantity: 1\n",
      "item: ks_almonds price: 10.99 tax code: e quantity: 1\n",
      "item: ks_walnuts price: 13.485 tax code: e quantity: 1\n",
      "item: unstoppable_fresh price: 15.989999999999998 tax code: a quantity: 1\n",
      "v's cost is: 148.2912175\n"
     ]
    }
   ],
   "source": [
    "all_items = list(prices.keys())\n",
    "all_items_quant = dict.fromkeys(all_items, 1)\n",
    "split_items = ['spaghetti', 'ks_chewy', 'colgate', 'ziplock', 'ks_wasteliners', 'onions',\n",
    "               'rao_sauce', 'eggs', 'salt', 'ks_almonds', 'ks_walnuts']  # , 'paper_towels']\n",
    "for split_item in split_items:\n",
    "    all_items_quant[split_item] = 2\n",
    "\n",
    "v_items = all_items.copy()\n",
    "v_items_quant = all_items_quant.copy()\n",
    "for split_item in split_items:\n",
    "    v_items_quant[split_item] = 1\n",
    "v_exclude = [\n",
    "    'ks_milk', 'pickle', 'salmon', 'hydro_boost', 'bananas', 'hbo_almonds', 'ks_chicken_stock'\n",
    "]\n",
    "for exclusion in v_exclude:\n",
    "    v_items.remove(exclusion)\n",
    "    del v_items_quant[exclusion]\n",
    "\n",
    "running_sum = 0\n",
    "for item in all_items:\n",
    "    price = prices[item]\n",
    "    tax_code = tax_stat[item]\n",
    "    quantity = all_items_quant[item]\n",
    "    print('item:',item,'price:',price,'tax code:',tax_code,'quantity:',quantity)\n",
    "    running_sum = scan_item(running_sum, price, tax_code, quantity)\n",
    "print('total cost is:', running_sum,'\\n')\n",
    "\n",
    "running_sum = 0\n",
    "for item in v_items:\n",
    "    price = prices[item]\n",
    "    tax_code = tax_stat[item]\n",
    "    quantity = v_items_quant[item]\n",
    "    print('item:', item, 'price:', price, 'tax code:', tax_code, 'quantity:', quantity)\n",
    "    running_sum = scan_item(running_sum, price, tax_code, quantity)\n",
    "print('v\\'s cost is:', running_sum)\n",
    "\n",
    "# debug\n",
    "# print(all_items_quant)\n"
   ]
  },
  {
   "cell_type": "markdown",
   "metadata": {},
   "source": [
    "waymo, toilet paper, paper towels, and previous milk"
   ]
  },
  {
   "cell_type": "code",
   "execution_count": 37,
   "metadata": {},
   "outputs": [
    {
     "name": "stdout",
     "output_type": "stream",
     "text": [
      "waymo: 12.47\n",
      "toilet_paper: 13.019775711159738\n",
      "paper_towels: 27.146637\n",
      "previous_milk: 6\n",
      "extraneous split total: 29.318206355579868\n",
      "final total: 177.60942385557985\n"
     ]
    }
   ],
   "source": [
    "extra_items = ['waymo', 'toilet_paper', 'paper_towels', 'previous_milk']\n",
    "extra_prices = {\n",
    "    'waymo':12.47,\n",
    "    'toilet_paper':11.99*(1+1.57/18.28),\n",
    "    'paper_towels':24.99*1.0863,\n",
    "    'previous_milk':6\n",
    "}\n",
    "\n",
    "extra_total = 0\n",
    "for extra_item in extra_items:\n",
    "    print(f'{extra_item}: {extra_prices[extra_item]}')\n",
    "    extra_total += extra_prices[extra_item]/2\n",
    "\n",
    "print(f'extraneous split total: {extra_total}')\n",
    "print(f'final total: {running_sum + extra_total}')"
   ]
  },
  {
   "cell_type": "code",
   "execution_count": null,
   "metadata": {},
   "outputs": [],
   "source": []
  }
 ],
 "metadata": {
  "kernelspec": {
   "display_name": "deepdream",
   "language": "python",
   "name": "python3"
  },
  "language_info": {
   "codemirror_mode": {
    "name": "ipython",
    "version": 3
   },
   "file_extension": ".py",
   "mimetype": "text/x-python",
   "name": "python",
   "nbconvert_exporter": "python",
   "pygments_lexer": "ipython3",
   "version": "3.12.2"
  }
 },
 "nbformat": 4,
 "nbformat_minor": 2
}
